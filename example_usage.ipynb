{
 "cells": [
  {
   "cell_type": "markdown",
   "metadata": {},
   "source": [
    "<a id=\"top\"></a>\n",
    "# Localization-delocalization transition in the physical Laplacian spectrum"
   ]
  },
  {
   "cell_type": "code",
   "execution_count": 1,
   "metadata": {},
   "outputs": [],
   "source": [
    "import igraph as ig\n",
    "import numpy as np\n",
    "from scipy.optimize import root_scalar\n",
    "from scipy.sparse import coo_array\n",
    "from scipy.sparse.linalg import eigsh\n",
    "\n",
    "import matplotlib.pyplot as plt\n",
    "import pickle\n",
    "from tqdm import tqdm"
   ]
  },
  {
   "cell_type": "code",
   "execution_count": 2,
   "metadata": {},
   "outputs": [],
   "source": [
    "def inverse_participation_ratio(vec):\n",
    "    \"\"\"Calculate the inverse participation ratio of a vector.\n",
    "    \n",
    "    Parameters\n",
    "    ----------\n",
    "    vec : np.array\n",
    "        The vector for which to calculate the inverse participation ratio.\n",
    "    \n",
    "    Returns\n",
    "    -------\n",
    "    ipr : float\n",
    "        The inverse participation ratio of the vector.\n",
    "    \"\"\"\n",
    "    return np.sum(vec**4.)/(np.sum(vec**2.)**2.)"
   ]
  },
  {
   "cell_type": "code",
   "execution_count": 3,
   "metadata": {},
   "outputs": [],
   "source": [
    "def physical_eigen_values(g, vols, which='leading'):\n",
    "    \"\"\"Calculate the eigenvalue of the physical Laplacian.\n",
    "\n",
    "    Parameters\n",
    "    ----------\n",
    "    g : igraph.Graph\n",
    "        The graph for which to calculate the eigenvalue.\n",
    "    \n",
    "    vols : np.array\n",
    "        The volume of each vertex in the graph.\n",
    "    \n",
    "    which : str\n",
    "        Which eigenvalue to calculate. Options are 'leading' and 'fiedler'.\n",
    "    \n",
    "    Returns\n",
    "    -------\n",
    "    eigs[0] : float\n",
    "        The eigenvalue of the physical Laplacian.\n",
    "    \"\"\"\n",
    "    \n",
    "    row=[]\n",
    "    col=[]\n",
    "    val=[]\n",
    "    for e in g.es:\n",
    "        row.append(e.source)\n",
    "        col.append(e.target)\n",
    "        val.append(-1)\n",
    "\n",
    "        row.append(e.target)\n",
    "        col.append(e.source)\n",
    "        val.append(-1)\n",
    "\n",
    "    for vid, k in enumerate(g.degree()):\n",
    "        row.append(vid)\n",
    "        col.append(vid)\n",
    "        val.append(k)\n",
    "    \n",
    "    Lap = coo_array((val, (row, col)), shape=(g.vcount(), g.vcount())).tocsc()\n",
    "    \n",
    "    row=[]\n",
    "    col=[]\n",
    "    val=[]\n",
    "    for v in g.vs:\n",
    "        row.append(v.index)\n",
    "        col.append(v.index)\n",
    "        val.append(vols[v.index])\n",
    "    val = np.array(val)\n",
    "    val = val**-.5\n",
    "\n",
    "    vs = coo_array((val, (row, col)), shape=(g.vcount(), g.vcount())).tocsc()\n",
    "\n",
    "    physLap = vs.dot(Lap.dot(vs))\n",
    "    \n",
    "    if which == 'leading':\n",
    "        eigs, vecs = eigsh(physLap, k=1, which='LM', return_eigenvectors=True)\n",
    "        return eigs[0], vecs[:,0]\n",
    "    elif which == 'fiedler':\n",
    "        eigs, vecs = eigsh(physLap, k=2, which='SM', return_eigenvectors=True)\n",
    "        return eigs[1], vecs[:,1]"
   ]
  },
  {
   "cell_type": "markdown",
   "metadata": {},
   "source": [
    "## Regular random graphs with a hub"
   ]
  },
  {
   "cell_type": "code",
   "execution_count": null,
   "metadata": {},
   "outputs": [],
   "source": [
    "# def g(z,c):\n",
    "#     return ((c - 2) * z - np.sign(z) * c * (z**2 - 4 * (c - 1))**.5) / (2 * (c**2 - z**2))\n",
    "\n",
    "# def Dg(z,c):\n",
    "#     return (\n",
    "#         (c - 2 - np.sign(z) * c * z / (z**2 - 4 * (c - 1))**.5) / (2 * (c**2 - z**2))\n",
    "#         + z * ((c - 2) * z - np.sign(z) * c * (z**2 - 4 * (c - 1))**.5) / (c**2 - z**2)**2\n",
    "#     )"
   ]
  },
  {
   "cell_type": "code",
   "execution_count": null,
   "metadata": {},
   "outputs": [],
   "source": [
    "n_nodes = 1000\n",
    "degree = 4"
   ]
  },
  {
   "cell_type": "markdown",
   "metadata": {},
   "source": [
    "## Erdos-Renyi random graphs with a hub"
   ]
  },
  {
   "cell_type": "code",
   "execution_count": null,
   "metadata": {},
   "outputs": [],
   "source": [
    "n_nodes = 1000\n",
    "avg_degree = 4\n"
   ]
  },
  {
   "cell_type": "markdown",
   "metadata": {},
   "source": [
    "## Configuration model"
   ]
  },
  {
   "cell_type": "code",
   "execution_count": null,
   "metadata": {},
   "outputs": [],
   "source": [
    "n_nodes = 1000\n",
    "avg_degree = 4\n",
    "n_edges = n_nodes * avg_degree // 2\n",
    "gamma = 2.5\n",
    "\n",
    "g = ig.Graph.Static_Power_Law(\n",
    "    n=n_nodes, m=n_edges, exponent_out=gamma, direct=False\n",
    ")\n",
    "deg = np.array(g.degree())"
   ]
  },
  {
   "cell_type": "markdown",
   "metadata": {},
   "source": [
    "## Barabasi-Albert model"
   ]
  },
  {
   "cell_type": "code",
   "execution_count": 4,
   "metadata": {},
   "outputs": [],
   "source": [
    "n_nodes = 1000\n",
    "m = 2\n",
    "\n",
    "g = ig.Graph.Barabasi(n=n_nodes, m=m)\n",
    "deg = np.array(g.degree())"
   ]
  },
  {
   "cell_type": "code",
   "execution_count": 5,
   "metadata": {},
   "outputs": [],
   "source": [
    "n_steps = 21\n",
    "alpha_min = 0.\n",
    "alpha_max = 2.\n",
    "\n",
    "alphas = np.linspace(alpha_min, alpha_max, n_steps)"
   ]
  },
  {
   "cell_type": "code",
   "execution_count": null,
   "metadata": {},
   "outputs": [],
   "source": [
    "for alpha in alphas:\n",
    "    vols = deg**alpha\n",
    "    eigs, vec = physical_eigen_values(g, vols, which='leading')\n"
   ]
  }
 ],
 "metadata": {
  "kernelspec": {
   "display_name": "physLap",
   "language": "python",
   "name": "python3"
  },
  "language_info": {
   "codemirror_mode": {
    "name": "ipython",
    "version": 3
   },
   "file_extension": ".py",
   "mimetype": "text/x-python",
   "name": "python",
   "nbconvert_exporter": "python",
   "pygments_lexer": "ipython3",
   "version": "3.12.3"
  }
 },
 "nbformat": 4,
 "nbformat_minor": 2
}
